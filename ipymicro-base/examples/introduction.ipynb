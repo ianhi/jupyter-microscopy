{
 "cells": [
  {
   "cell_type": "markdown",
   "metadata": {},
   "source": [
    "# Introduction"
   ]
  },
  {
   "cell_type": "code",
   "execution_count": 1,
   "metadata": {},
   "outputs": [],
   "source": [
    "import ipymicro_base\n",
    "import numpy as np"
   ]
  },
  {
   "cell_type": "code",
   "execution_count": 3,
   "metadata": {},
   "outputs": [
    {
     "data": {
      "application/vnd.jupyter.widget-view+json": {
       "model_id": "6763e9f0aa3b4f50972aadc310f964fa",
       "version_major": 2,
       "version_minor": 0
      },
      "text/plain": [
       "baseCanvasModel(layout=Layout(height='500px', width='500px'))"
      ]
     },
     "metadata": {},
     "output_type": "display_data"
    }
   ],
   "source": [
    "w = ipymicro_base.baseCanvasModel()\n",
    "w.layout.width = '500px'\n",
    "w.layout.height = '500px'\n",
    "w.set_image(255*np.sin(np.linspace(0,255,500*500).reshape(500,500)))\n",
    "w"
   ]
  },
  {
   "cell_type": "code",
   "execution_count": 17,
   "metadata": {},
   "outputs": [],
   "source": [
    "  private lassoing: boolean;"
   ]
  },
  {
   "cell_type": "code",
   "execution_count": 13,
   "metadata": {},
   "outputs": [
    {
     "data": {
      "text/plain": [
       "array([[0.00000000e+00, 1.02000408e-03, 2.04000816e-03, ...,\n",
       "        5.06942028e-01, 5.07962032e-01, 5.08982036e-01],\n",
       "       [5.10002040e-01, 5.11022044e-01, 5.12042048e-01, ...,\n",
       "        1.01694407e+00, 1.01796407e+00, 1.01898408e+00],\n",
       "       [1.02000408e+00, 1.02102408e+00, 1.02204409e+00, ...,\n",
       "        1.52694611e+00, 1.52796611e+00, 1.52898612e+00],\n",
       "       ...,\n",
       "       [2.53471014e+02, 2.53472034e+02, 2.53473054e+02, ...,\n",
       "        2.53977956e+02, 2.53978976e+02, 2.53979996e+02],\n",
       "       [2.53981016e+02, 2.53982036e+02, 2.53983056e+02, ...,\n",
       "        2.54487958e+02, 2.54488978e+02, 2.54489998e+02],\n",
       "       [2.54491018e+02, 2.54492038e+02, 2.54493058e+02, ...,\n",
       "        2.54997960e+02, 2.54998980e+02, 2.55000000e+02]])"
      ]
     },
     "execution_count": 13,
     "metadata": {},
     "output_type": "execute_result"
    }
   ],
   "source": [
    "np.linspace(0,255,500*500).reshape(500,500)"
   ]
  },
  {
   "cell_type": "code",
   "execution_count": null,
   "metadata": {},
   "outputs": [],
   "source": []
  }
 ],
 "metadata": {
  "kernelspec": {
   "display_name": "Python 3",
   "language": "python",
   "name": "python3"
  },
  "language_info": {
   "codemirror_mode": {
    "name": "ipython",
    "version": 3
   },
   "file_extension": ".py",
   "mimetype": "text/x-python",
   "name": "python",
   "nbconvert_exporter": "python",
   "pygments_lexer": "ipython3",
   "version": "3.8.3"
  },
  "widgets": {
   "application/vnd.jupyter.widget-state+json": {
    "state": {
     "6763e9f0aa3b4f50972aadc310f964fa": {
      "model_module": "jupyter-micro-base",
      "model_module_version": "^0.1.0",
      "model_name": "baseCanvasModel",
      "state": {
       "_model_module_version": "^0.1.0",
       "_view_module_version": "^0.1.0",
       "classColor": "red",
       "erasing": true,
       "height": 700,
       "layout": "IPY_MODEL_b94c449231d84342af766eaee45803bd",
       "value": "Hello World",
       "width": 700
      }
     },
     "9d42eb263bc34efab270cc56046cf175": {
      "model_module": "jupyter-micro-base",
      "model_module_version": "^0.1.0",
      "model_name": "baseCanvasModel",
      "state": {
       "_model_module_version": "^0.1.0",
       "_view_module_version": "^0.1.0",
       "classColor": "red",
       "erasing": true,
       "height": 700,
       "layout": "IPY_MODEL_9fde40360d344a91a83ed79d31bea5a8",
       "value": "Hello World",
       "width": 700
      }
     },
     "9fde40360d344a91a83ed79d31bea5a8": {
      "model_module": "@jupyter-widgets/base",
      "model_module_version": "1.2.0",
      "model_name": "LayoutModel",
      "state": {
       "height": "500px",
       "width": "500px"
      }
     },
     "b94c449231d84342af766eaee45803bd": {
      "model_module": "@jupyter-widgets/base",
      "model_module_version": "1.2.0",
      "model_name": "LayoutModel",
      "state": {
       "height": "500px",
       "width": "500px"
      }
     },
     "bb48b17dcfdb44fc85f8d79a044482af": {
      "model_module": "jupyter-micro-base",
      "model_module_version": "^0.1.0",
      "model_name": "baseCanvasModel",
      "state": {
       "_model_module_version": "^0.1.0",
       "_view_module_version": "^0.1.0",
       "classColor": "red",
       "erasing": true,
       "height": 700,
       "layout": "IPY_MODEL_fb076234eb644b8cbe2295690cf6c5ee",
       "value": "Hello World",
       "width": 700
      }
     },
     "fb076234eb644b8cbe2295690cf6c5ee": {
      "model_module": "@jupyter-widgets/base",
      "model_module_version": "1.2.0",
      "model_name": "LayoutModel",
      "state": {
       "height": "500px",
       "width": "500px"
      }
     }
    },
    "version_major": 2,
    "version_minor": 0
   }
  }
 },
 "nbformat": 4,
 "nbformat_minor": 4
}
