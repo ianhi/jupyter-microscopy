{
 "cells": [
  {
   "cell_type": "code",
   "execution_count": 1,
   "metadata": {},
   "outputs": [],
   "source": [
    "%matplotlib widget\n",
    "from skimage import io, exposure\n",
    "import matplotlib.pyplot as plt\n",
    "import ipywidgets as widgets\n",
    "import numpy as np\n",
    "from traitlets import HasTraits, CFloat, observe"
   ]
  },
  {
   "cell_type": "markdown",
   "metadata": {},
   "source": [
    "## Problem\n",
    "\n",
    "Many microscopy images are difficult see the detail because the entire dynamic range is kept in the file. So you can't see the beautiful yeast in the below image."
   ]
  },
  {
   "cell_type": "code",
   "execution_count": 2,
   "metadata": {},
   "outputs": [
    {
     "data": {
      "application/vnd.jupyter.widget-view+json": {
       "model_id": "9eefbb74a00746c1b0d8b58397ce022d",
       "version_major": 2,
       "version_minor": 0
      },
      "text/plain": [
       "Canvas(toolbar=Toolbar(toolitems=[('Home', 'Reset original view', 'home', 'home'), ('Back', 'Back to previous …"
      ]
     },
     "metadata": {},
     "output_type": "display_data"
    }
   ],
   "source": [
    "yeast = io.imread('yeast.tif')\n",
    "plt.figure()\n",
    "plt.imshow(yeast)\n",
    "plt.show()"
   ]
  },
  {
   "cell_type": "markdown",
   "metadata": {},
   "source": [
    "## Partial Solution\n",
    "\n",
    "Clip the image using numpy. This allows you to start seeing the image, but adjusting this is annoying. Ideally I would use a selection slider over the histogram of pixel intensity which is was what is done in other image viewer software. "
   ]
  },
  {
   "cell_type": "code",
   "execution_count": 3,
   "metadata": {},
   "outputs": [
    {
     "data": {
      "application/vnd.jupyter.widget-view+json": {
       "model_id": "eb1a912d04f047c081a3cead64081574",
       "version_major": 2,
       "version_minor": 0
      },
      "text/plain": [
       "Canvas(toolbar=Toolbar(toolitems=[('Home', 'Reset original view', 'home', 'home'), ('Back', 'Back to previous …"
      ]
     },
     "metadata": {},
     "output_type": "display_data"
    },
    {
     "data": {
      "text/plain": [
       "<matplotlib.colorbar.Colorbar at 0x7f68991fa8b0>"
      ]
     },
     "execution_count": 3,
     "metadata": {},
     "output_type": "execute_result"
    }
   ],
   "source": [
    "clipped = np.clip(yeast,0,1000)\n",
    "plt.figure()\n",
    "plt.imshow(clipped)\n",
    "plt.colorbar()"
   ]
  },
  {
   "cell_type": "markdown",
   "metadata": {},
   "source": [
    "## Approach to nice thresholding with traitlets - tragically laggy :(\n",
    "\n",
    "I think most of the lag is due to matplotlib recomputing the images and there being many roundtrips from python to javascript. I wonder if\n",
    "1. Any way to make ipympl speedier\n",
    "2. throttle traitlets updates"
   ]
  },
  {
   "cell_type": "code",
   "execution_count": 4,
   "metadata": {},
   "outputs": [],
   "source": [
    "out = widgets.Output()"
   ]
  },
  {
   "cell_type": "code",
   "execution_count": 5,
   "metadata": {},
   "outputs": [
    {
     "data": {
      "application/vnd.jupyter.widget-view+json": {
       "model_id": "e2b4d0bca47e41cbbc5da2d9e827c3bb",
       "version_major": 2,
       "version_minor": 0
      },
      "text/plain": [
       "Canvas(toolbar=Toolbar(toolitems=[('Home', 'Reset original view', 'home', 'home'), ('Back', 'Back to previous …"
      ]
     },
     "metadata": {},
     "output_type": "display_data"
    }
   ],
   "source": [
    "import matplotlib.pyplot as plt\n",
    "import matplotlib.lines as lines\n",
    "\n",
    "out.clear_output()\n",
    "# based on https://stackoverflow.com/questions/47439355/draggable-lines-select-one-another-in-matplotlib\n",
    "class draggable_vline(HasTraits):\n",
    "    position = CFloat(.5)\n",
    "    def __init__(self, ax, position = .5, **kwargs):\n",
    "        super().__init__(position=position, **kwargs)\n",
    "        self.ax = ax\n",
    "        self.fig = ax.get_figure()\n",
    "        self.canvas = self.fig.canvas\n",
    "\n",
    "        self.line = self.ax.axvline(position, picker=5,color='k')\n",
    "        self.canvas.draw_idle()\n",
    "        self.sid = self.canvas.mpl_connect('pick_event', self.clickonline)\n",
    "        self.position = position\n",
    "\n",
    "    def clickonline(self, event):\n",
    "        with out:\n",
    "            if event.artist == self.line:\n",
    "                self.follower = self.canvas.mpl_connect(\"motion_notify_event\", self.followmouse)\n",
    "                self.releaser = self.canvas.mpl_connect(\"button_press_event\", self.releaseonclick)\n",
    "\n",
    "    def followmouse(self, event):\n",
    "        with out:\n",
    "            if event.xdata:\n",
    "                self.line.set_xdata([event.xdata, event.xdata])\n",
    "                self.canvas.draw_idle() # hide behind an if in case on same canvas as image?\n",
    "                self.position = event.xdata\n",
    "\n",
    "    def releaseonclick(self, event):\n",
    "        self.canvas.mpl_disconnect(self.releaser)\n",
    "        self.canvas.mpl_disconnect(self.follower)\n",
    "\n",
    "class percentile_threshold(HasTraits):\n",
    "    lower_threshold = CFloat(0)\n",
    "    upper_threshold = CFloat(1)\n",
    "    \n",
    "    def __init__(self, ax, data, min_percentile, max_percentile, bins=100, **kwargs):\n",
    "        super().__init__(**kwargs)\n",
    "        self.ax = ax\n",
    "        self.fig = ax.get_figure()\n",
    "        self.canvas = self.fig.canvas\n",
    "        self.ax.hist(data,bins=bins, density=True)\n",
    "        self.min_percentile = min_percentile # add option for these to be iterable?\n",
    "        self.max_percentile = max_percentile\n",
    "        self.line1 = draggable_vline(ax, self.lower_threshold*data.max())\n",
    "        self.line2 = draggable_vline(ax, self.upper_threshold*data.max())\n",
    "        self.line1.observe(self._handle_position_change)\n",
    "        self.line2.observe(self._handle_position_change)\n",
    "        self.canvas.draw()\n",
    "        self._max_val = data.max()\n",
    "\n",
    "    def _handle_position_change(self, change):\n",
    "        with out:\n",
    "            self.lower_threshold, self.upper_threshold = np.sort([self.line1.position, self.line2.position])/self._max_val\n",
    "\n",
    "class thresholded_image(HasTraits):\n",
    "    max_percentile = CFloat(1)\n",
    "    min_percentile = CFloat(0)\n",
    "    def __init__(self, ax, image, **kwargs):\n",
    "        super().__init__(**kwargs)\n",
    "        self.ax = ax\n",
    "        self.fig = ax.get_figure()\n",
    "        self.canvas = self.fig.canvas\n",
    "        self.image = image\n",
    "        self.im = self.ax.imshow(image)\n",
    "        self.canvas.draw_idle()\n",
    "        self._img_max = self.image.max()\n",
    "        self._img_min = self.image.min()\n",
    "        \n",
    "    @observe('max_percentile', 'min_percentile')\n",
    "    def _observe_max_value(self, change):\n",
    "        self.im.set_data(np.clip(self.image, self._img_max*self.min_percentile, self.max_percentile * self._img_max))\n",
    "        self.canvas.draw_idle()\n",
    "        \n",
    "    \n",
    "plt.ioff()\n",
    "fig = plt.figure(figsize=(14,6))\n",
    "im_ax, hist_ax = fig.subplots(1, 2)\n",
    "\n",
    "yikes = thresholded_image(im_ax, clipped)\n",
    "hist = percentile_threshold(hist_ax, clipped.ravel(), 0, 1)\n",
    "def callback(change):\n",
    "    with out:\n",
    "        yikes.min_percentile = hist.lower_threshold\n",
    "        yikes.max_percentile = hist.upper_threshold\n",
    "        yikes.im.autoscale()\n",
    "\n",
    "hist.observe(callback)\n",
    "plt.ion()\n",
    "plt.show()"
   ]
  },
  {
   "cell_type": "markdown",
   "metadata": {},
   "source": [
    "## Try with throttling\n",
    "Code yoinked from: https://ipywidgets.readthedocs.io/en/latest/examples/Widget%20Events.html#Throttling "
   ]
  },
  {
   "cell_type": "code",
   "execution_count": 6,
   "metadata": {},
   "outputs": [],
   "source": [
    "from time import time\n",
    "\n",
    "import asyncio\n",
    "\n",
    "class Timer:\n",
    "    def __init__(self, timeout, callback):\n",
    "        self._timeout = timeout\n",
    "        self._callback = callback\n",
    "        self._task = asyncio.ensure_future(self._job())\n",
    "\n",
    "    async def _job(self):\n",
    "        await asyncio.sleep(self._timeout)\n",
    "        self._callback()\n",
    "\n",
    "    def cancel(self):\n",
    "        self._task.cancel()\n",
    "\n",
    "def throttle(wait):\n",
    "    \"\"\" Decorator that prevents a function from being called\n",
    "        more than once every wait period. \"\"\"\n",
    "    def decorator(fn):\n",
    "        time_of_last_call = 0\n",
    "        scheduled = False\n",
    "        new_args, new_kwargs = None, None\n",
    "        def throttled(*args, **kwargs):\n",
    "            nonlocal new_args, new_kwargs, time_of_last_call, scheduled\n",
    "            def call_it():\n",
    "                nonlocal new_args, new_kwargs, time_of_last_call, scheduled\n",
    "                time_of_last_call = time()\n",
    "                fn(*new_args, **new_kwargs)\n",
    "                scheduled = False\n",
    "            time_since_last_call = time() - time_of_last_call\n",
    "            new_args = args\n",
    "            new_kwargs = kwargs\n",
    "            if not scheduled:\n",
    "                new_wait = max(0, wait - time_since_last_call)\n",
    "                Timer(new_wait, call_it)\n",
    "                scheduled = True\n",
    "        return throttled\n",
    "    return decorator"
   ]
  },
  {
   "cell_type": "code",
   "execution_count": 7,
   "metadata": {},
   "outputs": [],
   "source": [
    "out.clear_output()"
   ]
  },
  {
   "cell_type": "code",
   "execution_count": 8,
   "metadata": {},
   "outputs": [
    {
     "data": {
      "application/vnd.jupyter.widget-view+json": {
       "model_id": "37653d7ccee24e9d8b312e6c093b3aef",
       "version_major": 2,
       "version_minor": 0
      },
      "text/plain": [
       "Output()"
      ]
     },
     "metadata": {},
     "output_type": "display_data"
    },
    {
     "data": {
      "application/vnd.jupyter.widget-view+json": {
       "model_id": "d122161028df4e5c92030d4f748b28fb",
       "version_major": 2,
       "version_minor": 0
      },
      "text/plain": [
       "Canvas(toolbar=Toolbar(toolitems=[('Home', 'Reset original view', 'home', 'home'), ('Back', 'Back to previous …"
      ]
     },
     "metadata": {},
     "output_type": "display_data"
    }
   ],
   "source": [
    "\n",
    "plt.ioff()\n",
    "fig = plt.figure(figsize=(14,6))\n",
    "im_ax, hist_ax = fig.subplots(1, 2)\n",
    "display(out)\n",
    "yikes = thresholded_image(im_ax, clipped)\n",
    "hist = percentile_threshold(hist_ax, clipped.ravel(), 0, 1)\n",
    "@throttle(.5)\n",
    "def callback(change):\n",
    "    with out:\n",
    "        print('here!')\n",
    "        yikes.min_percentile = hist.lower_threshold\n",
    "        yikes.max_percentile = hist.upper_threshold\n",
    "        yikes.im.autoscale()\n",
    "\n",
    "hist.observe(callback)\n",
    "plt.ion()\n",
    "plt.show()"
   ]
  },
  {
   "attachments": {
    "2f5b4317-223d-42b6-acba-fbb20600dc8c.png": {
     "image/png": "[encoded data removed]"
    }
   },
   "cell_type": "markdown",
   "metadata": {},
   "source": [
    "## How to improve?\n",
    "\n",
    "\n",
    "Add scroll to zoom on the histogram once ipympl 0.5.7 is released\n",
    "\n",
    "I think the best approach is to make both parts in the javascript separately then use jslink to connect the values. I don't really want to write my own histogram and selection range thingy so maybe should look in bqplot.\n",
    "\n",
    "\n",
    "D3 seems like an extreme choice. Maybe could start using p5js as a dependency. Example hist of image: https://editor.p5js.org/ebenjmuse/sketches/HyPfeGkCZ\n",
    "\n",
    "oh boy i sure didn't do enough research on the canvas libraries. Also fabricjs, paperjs, and easeljs\n",
    "\n",
    "how on earth are you supposed to choose\n",
    "\n",
    "from: https://www.slant.co/topics/28/~best-javascript-drawing-libraries\n",
    "single instance thing may be an issue.\n",
    "![image.png](attachment:2f5b4317-223d-42b6-acba-fbb20600dc8c.png)\n",
    "\n",
    "\n",
    "maybe chartjs is the way to go could use for histogram and also here is an example of selecting a range https://stackoverflow.com/questions/42855738/how-do-i-selecting-a-date-range-like-onclick-but-drag-select \n",
    "\n",
    "I probably ought to learn one of the canvas libraries though. But also maybe not??? LIke I'm not try to make a game here all the visualization an interaction is hopefully simple. But still would be faster to make if I just glommed on lots of stuff"
   ]
  },
  {
   "cell_type": "code",
   "execution_count": null,
   "metadata": {},
   "outputs": [],
   "source": [
    "\n",
    "# #         print('wow!')\n",
    "# hist.observe(callback)\n",
    "# plt.ion()\n",
    "# plt.show()\n",
    "\n",
    "# plt.close('all')\n",
    "# plt.ioff()\n",
    "# fig = plt.figure()\n",
    "# ax = fig.gca()\n",
    "\n",
    "# display(out)\n",
    "\n",
    "# fig2 = plt.figure()\n",
    "# fig.canvas2\n",
    "# ax2 = fig2.add_subplot(111)\n",
    "# hist = percentile_threshold(ax2, clipped.ravel(), 0, 1)\n",
    "# def callback(change):\n",
    "#     with out:\n",
    "#         yikes.min_percentile = hist.lower_threshold\n",
    "#         yikes.max_percentile = hist.upper_threshold\n",
    "#         yikes.im.autoscale()\n",
    "# #         print('wow!')\n",
    "\n",
    "# widgets.HBox([fig.canvas, fig2.canvas])\n",
    "# # hist = threshold_hist(ax2, clipped, .1, 4)\n",
    "# # Vline = draggable_vline(ax2, 1,.2)\n",
    "# # Vline.observe(callback)\n",
    "# # Vline = draggable_vline(ax, 0.8)\n",
    "# # Tline = draggable_lines(ax, \"v\", 0.5)\n",
    "# # Tline2 = draggable_lines(ax, \"v\", 0.1)\n",
    "# # plt.show()"
   ]
  },
  {
   "cell_type": "code",
   "execution_count": null,
   "metadata": {},
   "outputs": [],
   "source": []
  }
 ],
 "metadata": {
  "kernelspec": {
   "display_name": "Python 3",
   "language": "python",
   "name": "python3"
  },
  "language_info": {
   "codemirror_mode": {
    "name": "ipython",
    "version": 3
   },
   "file_extension": ".py",
   "mimetype": "text/x-python",
   "name": "python",
   "nbconvert_exporter": "python",
   "pygments_lexer": "ipython3",
   "version": "3.8.3"
  },
  "widgets": {
   "application/vnd.jupyter.widget-state+json": {
    "state": {
     "20a55d0cfad241928fb5f83c72f916a3": {
      "model_module": "@jupyter-widgets/base",
      "model_module_version": "1.2.0",
      "model_name": "LayoutModel",
      "state": {}
     },
     "261cb9c964c14b6ea24d800f614119fd": {
      "model_module": "@jupyter-widgets/base",
      "model_module_version": "1.2.0",
      "model_name": "LayoutModel",
      "state": {}
     },
     "33e940fa218f4189b258c1b69b4aa519": {
      "model_module": "jupyter-matplotlib",
      "model_module_version": "^0.7.2",
      "model_name": "ToolbarModel",
      "state": {
       "layout": "IPY_MODEL_261cb9c964c14b6ea24d800f614119fd",
       "toolitems": [
        [
         "Home",
         "Reset original view",
         "home",
         "home"
        ],
        [
         "Back",
         "Back to previous view",
         "arrow-left",
         "back"
        ],
        [
         "Forward",
         "Forward to next view",
         "arrow-right",
         "forward"
        ],
        [
         "Pan",
         "Pan axes with left mouse, zoom with right",
         "arrows",
         "pan"
        ],
        [
         "Zoom",
         "Zoom to rectangle",
         "square-o",
         "zoom"
        ],
        [
         "Download",
         "Download plot",
         "floppy-o",
         "save_figure"
        ]
       ]
      }
     },
     "36b222f782294832b7f2ce7c2ae9b8ed": {
      "model_module": "jupyter-matplotlib",
      "model_module_version": "^0.7.2",
      "model_name": "ToolbarModel",
      "state": {
       "layout": "IPY_MODEL_521f5cb625c340eaa461b5ff16b9d1f7",
       "toolitems": [
        [
         "Home",
         "Reset original view",
         "home",
         "home"
        ],
        [
         "Back",
         "Back to previous view",
         "arrow-left",
         "back"
        ],
        [
         "Forward",
         "Forward to next view",
         "arrow-right",
         "forward"
        ],
        [
         "Pan",
         "Pan axes with left mouse, zoom with right",
         "arrows",
         "pan"
        ],
        [
         "Zoom",
         "Zoom to rectangle",
         "square-o",
         "zoom"
        ],
        [
         "Download",
         "Download plot",
         "floppy-o",
         "save_figure"
        ]
       ]
      }
     },
     "37653d7ccee24e9d8b312e6c093b3aef": {
      "model_module": "@jupyter-widgets/output",
      "model_module_version": "1.0.0",
      "model_name": "OutputModel",
      "state": {
       "layout": "IPY_MODEL_20a55d0cfad241928fb5f83c72f916a3"
      }
     },
     "3d0a9277b48b489e96ce0c9e4a3609f8": {
      "model_module": "@jupyter-widgets/base",
      "model_module_version": "1.2.0",
      "model_name": "LayoutModel",
      "state": {}
     },
     "521f5cb625c340eaa461b5ff16b9d1f7": {
      "model_module": "@jupyter-widgets/base",
      "model_module_version": "1.2.0",
      "model_name": "LayoutModel",
      "state": {}
     },
     "60311bd780cf4713a69bca8ce2c491d4": {
      "model_module": "jupyter-matplotlib",
      "model_module_version": "^0.7.2",
      "model_name": "ToolbarModel",
      "state": {
       "layout": "IPY_MODEL_bd3c0ce70f0043539d39e6a76ec24149",
       "toolitems": [
        [
         "Home",
         "Reset original view",
         "home",
         "home"
        ],
        [
         "Back",
         "Back to previous view",
         "arrow-left",
         "back"
        ],
        [
         "Forward",
         "Forward to next view",
         "arrow-right",
         "forward"
        ],
        [
         "Pan",
         "Pan axes with left mouse, zoom with right",
         "arrows",
         "pan"
        ],
        [
         "Zoom",
         "Zoom to rectangle",
         "square-o",
         "zoom"
        ],
        [
         "Download",
         "Download plot",
         "floppy-o",
         "save_figure"
        ]
       ]
      }
     },
     "8b21b0bc25f74ed5a39ba66dc07c30ca": {
      "model_module": "@jupyter-widgets/base",
      "model_module_version": "1.2.0",
      "model_name": "LayoutModel",
      "state": {}
     },
     "9eefbb74a00746c1b0d8b58397ce022d": {
      "model_module": "jupyter-matplotlib",
      "model_module_version": "^0.7.2",
      "model_name": "MPLCanvasModel",
      "state": {
       "_cursor": "default",
       "_figure_label": "Figure 1",
       "_height": 479,
       "_image_mode": "diff",
       "_width": 640,
       "layout": "IPY_MODEL_3d0a9277b48b489e96ce0c9e4a3609f8",
       "toolbar": "IPY_MODEL_60311bd780cf4713a69bca8ce2c491d4",
       "toolbar_position": "left"
      }
     },
     "bd3c0ce70f0043539d39e6a76ec24149": {
      "model_module": "@jupyter-widgets/base",
      "model_module_version": "1.2.0",
      "model_name": "LayoutModel",
      "state": {}
     },
     "c31aa9442c2d4ce1959b2514ce04daec": {
      "model_module": "@jupyter-widgets/base",
      "model_module_version": "1.2.0",
      "model_name": "LayoutModel",
      "state": {}
     },
     "cdeb743cffa84167b1ebdd09959f8ca5": {
      "model_module": "@jupyter-widgets/base",
      "model_module_version": "1.2.0",
      "model_name": "LayoutModel",
      "state": {}
     },
     "cf2b3d369a7543dd98efd5708257060e": {
      "model_module": "jupyter-matplotlib",
      "model_module_version": "^0.7.2",
      "model_name": "ToolbarModel",
      "state": {
       "layout": "IPY_MODEL_e67ef4838ff64bd7af707dd3e3cb7c35",
       "toolitems": [
        [
         "Home",
         "Reset original view",
         "home",
         "home"
        ],
        [
         "Back",
         "Back to previous view",
         "arrow-left",
         "back"
        ],
        [
         "Forward",
         "Forward to next view",
         "arrow-right",
         "forward"
        ],
        [
         "Pan",
         "Pan axes with left mouse, zoom with right",
         "arrows",
         "pan"
        ],
        [
         "Zoom",
         "Zoom to rectangle",
         "square-o",
         "zoom"
        ],
        [
         "Download",
         "Download plot",
         "floppy-o",
         "save_figure"
        ]
       ]
      }
     },
     "d122161028df4e5c92030d4f748b28fb": {
      "model_module": "jupyter-matplotlib",
      "model_module_version": "^0.7.2",
      "model_name": "MPLCanvasModel",
      "state": {
       "_cursor": "default",
       "_figure_label": "Figure 4",
       "_height": 600,
       "_image_mode": "diff",
       "_message": "x=1286.12      y=305.222      [315]",
       "_width": 1400,
       "layout": "IPY_MODEL_cdeb743cffa84167b1ebdd09959f8ca5",
       "toolbar": "IPY_MODEL_33e940fa218f4189b258c1b69b4aa519",
       "toolbar_position": "left"
      }
     },
     "e2b4d0bca47e41cbbc5da2d9e827c3bb": {
      "model_module": "jupyter-matplotlib",
      "model_module_version": "^0.7.2",
      "model_name": "MPLCanvasModel",
      "state": {
       "_cursor": "default",
       "_figure_label": "Figure 3",
       "_height": 600,
       "_image_mode": "diff",
       "_width": 1400,
       "layout": "IPY_MODEL_c31aa9442c2d4ce1959b2514ce04daec",
       "toolbar": "IPY_MODEL_cf2b3d369a7543dd98efd5708257060e",
       "toolbar_position": "left"
      }
     },
     "e67ef4838ff64bd7af707dd3e3cb7c35": {
      "model_module": "@jupyter-widgets/base",
      "model_module_version": "1.2.0",
      "model_name": "LayoutModel",
      "state": {}
     },
     "eb1a912d04f047c081a3cead64081574": {
      "model_module": "jupyter-matplotlib",
      "model_module_version": "^0.7.2",
      "model_name": "MPLCanvasModel",
      "state": {
       "_cursor": "default",
       "_figure_label": "Figure 2",
       "_height": 479,
       "_image_mode": "diff",
       "_width": 640,
       "layout": "IPY_MODEL_8b21b0bc25f74ed5a39ba66dc07c30ca",
       "toolbar": "IPY_MODEL_36b222f782294832b7f2ce7c2ae9b8ed",
       "toolbar_position": "left"
      }
     }
    },
    "version_major": 2,
    "version_minor": 0
   }
  }
 },
 "nbformat": 4,
 "nbformat_minor": 4
}
